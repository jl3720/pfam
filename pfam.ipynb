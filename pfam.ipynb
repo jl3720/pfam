{
 "cells": [
  {
   "cell_type": "markdown",
   "metadata": {},
   "source": [
    "# PFAM Classification Task"
   ]
  },
  {
   "cell_type": "markdown",
   "metadata": {},
   "source": [
    "**Aim:**\n",
    "- Classify protein family from amino acid sequence\n",
    "\n",
    "**Overview:**\n",
    "- Explore the dataset\n",
    "    - Examine class distributions and other key statistics\n",
    "    - Deal with class imbalance, and large size\n",
    "- Define hypothesis\n",
    "    - Can BERT-style embeddings enable few shot learning?\n",
    "- Define method\n",
    "- Define experiments\n",
    "- Define model\n",
    "    - Transformer\n",
    "    - ProtCNN as baseline (can change to MLP)\n",
    "- Train\n",
    "- Results"
   ]
  },
  {
   "cell_type": "markdown",
   "metadata": {},
   "source": [
    "## Imports"
   ]
  },
  {
   "cell_type": "code",
   "execution_count": 26,
   "metadata": {},
   "outputs": [],
   "source": [
    "import pandas as pd\n",
    "import glob"
   ]
  },
  {
   "cell_type": "markdown",
   "metadata": {},
   "source": [
    "## Exploratory data analysis"
   ]
  },
  {
   "cell_type": "markdown",
   "metadata": {},
   "source": [
    "### Load data\n",
    "We first read in the train, val, test data to `pandas` dataframes"
   ]
  },
  {
   "cell_type": "code",
   "execution_count": 27,
   "metadata": {},
   "outputs": [],
   "source": [
    "# Set filepaths to train, val, test splits\n",
    "train_path = \"data/train\"\n",
    "dev_path = \"data/dev\"\n",
    "test_path = \"data/test\"\n",
    "\n",
    "# Initialize the dataframes\n",
    "train_df = pd.DataFrame()\n",
    "dev_df = pd.DataFrame()\n",
    "test_df = pd.DataFrame()\n",
    "\n",
    "# Read in data\n",
    "for filepath in glob.iglob(train_path + \"/*\"):\n",
    "    train_df = pd.concat([train_df, pd.read_csv(filepath)], axis=0)\n",
    "for filepath in glob.iglob(dev_path + \"/*\"):\n",
    "    dev_df = pd.concat([dev_df, pd.read_csv(filepath)], axis=0)\n",
    "for filepath in glob.iglob(test_path + \"/*\"):\n",
    "    test_df = pd.concat([test_df, pd.read_csv(filepath)], axis=0)"
   ]
  },
  {
   "cell_type": "code",
   "execution_count": 28,
   "metadata": {},
   "outputs": [
    {
     "data": {
      "text/html": [
       "<div>\n",
       "<style scoped>\n",
       "    .dataframe tbody tr th:only-of-type {\n",
       "        vertical-align: middle;\n",
       "    }\n",
       "\n",
       "    .dataframe tbody tr th {\n",
       "        vertical-align: top;\n",
       "    }\n",
       "\n",
       "    .dataframe thead th {\n",
       "        text-align: right;\n",
       "    }\n",
       "</style>\n",
       "<table border=\"1\" class=\"dataframe\">\n",
       "  <thead>\n",
       "    <tr style=\"text-align: right;\">\n",
       "      <th></th>\n",
       "      <th>family_id</th>\n",
       "      <th>sequence_name</th>\n",
       "      <th>family_accession</th>\n",
       "      <th>aligned_sequence</th>\n",
       "      <th>sequence</th>\n",
       "    </tr>\n",
       "  </thead>\n",
       "  <tbody>\n",
       "    <tr>\n",
       "      <th>0</th>\n",
       "      <td>EKR</td>\n",
       "      <td>R6QAS0_9FIRM/627-685</td>\n",
       "      <td>PF10371.9</td>\n",
       "      <td>.EEKKLVIPTNRPEMKDFVKNILHPIDHLHGDDLPVSKFV..DRAD...</td>\n",
       "      <td>EEKKLVIPTNRPEMKDFVKNILHPIDHLHGDDLPVSKFVDRADGVY...</td>\n",
       "    </tr>\n",
       "    <tr>\n",
       "      <th>1</th>\n",
       "      <td>DUF4042</td>\n",
       "      <td>B3MYB3_DROAN/365-542</td>\n",
       "      <td>PF13251.6</td>\n",
       "      <td>KVRISALHLLGSLAKNLPRRFLYGYWHILFPSG.......EHGATN...</td>\n",
       "      <td>KVRISALHLLGSLAKNLPRRFLYGYWHILFPSGEHGATNSHLLLLG...</td>\n",
       "    </tr>\n",
       "    <tr>\n",
       "      <th>2</th>\n",
       "      <td>Reg_prop</td>\n",
       "      <td>Q8EJN6_SHEON/296-320</td>\n",
       "      <td>PF07494.11</td>\n",
       "      <td>AQANMETLK..AILF...DKSG.LMWVGGSG</td>\n",
       "      <td>AQANMETLKAILFDKSGLMWVGGSG</td>\n",
       "    </tr>\n",
       "    <tr>\n",
       "      <th>3</th>\n",
       "      <td>DUF3880</td>\n",
       "      <td>M1WYU2_PSEP2/257-334</td>\n",
       "      <td>PF12996.7</td>\n",
       "      <td>WFVDNPHLILHHYTHPGTDNTAIFTYDAGNL.EPLRRKGFANTY.Y...</td>\n",
       "      <td>WFVDNPHLILHHYTHPGTDNTAIFTYDAGNLEPLRRKGFANTYYLP...</td>\n",
       "    </tr>\n",
       "    <tr>\n",
       "      <th>4</th>\n",
       "      <td>UPRTase</td>\n",
       "      <td>B6GYG1_PENRW/502-699</td>\n",
       "      <td>PF14681.6</td>\n",
       "      <td>AT.DRPAAKLLMTPMRDASI.SGSALRKVHGRVGFYLATELCT.QI...</td>\n",
       "      <td>ATDRPAAKLLMTPMRDASISGSALRKVHGRVGFYLATELCTQIMGL...</td>\n",
       "    </tr>\n",
       "    <tr>\n",
       "      <th>...</th>\n",
       "      <td>...</td>\n",
       "      <td>...</td>\n",
       "      <td>...</td>\n",
       "      <td>...</td>\n",
       "      <td>...</td>\n",
       "    </tr>\n",
       "    <tr>\n",
       "      <th>13370</th>\n",
       "      <td>Tub_N</td>\n",
       "      <td>F1RNI1_PIG/29-238</td>\n",
       "      <td>PF16322.5</td>\n",
       "      <td>RQRALLEQKQKKKRQEPL.MVQANADGR..PRSRRARQSE.........</td>\n",
       "      <td>RQRALLEQKQKKKRQEPLMVQANADGRPRSRRARQSEEQAPLVESY...</td>\n",
       "    </tr>\n",
       "    <tr>\n",
       "      <th>13371</th>\n",
       "      <td>Phospho_p8</td>\n",
       "      <td>A0A1X7VUV4_AMPQE/3-63</td>\n",
       "      <td>PF10195.9</td>\n",
       "      <td>HIYFDEYDY.FNFGSGFDKMFPDNKNTGHSKHKGYKLETQRYSPSG...</td>\n",
       "      <td>HIYFDEYDYFNFGSGFDKMFPDNKNTGHSKHKGYKLETQRYSPSGH...</td>\n",
       "    </tr>\n",
       "    <tr>\n",
       "      <th>13372</th>\n",
       "      <td>E3_binding</td>\n",
       "      <td>D5QEH1_KOMHA/126-161</td>\n",
       "      <td>PF02817.17</td>\n",
       "      <td>VFASPVAR.RLARLHEL....DLR..RV..G....G....S.GPRG...</td>\n",
       "      <td>VFASPVARRLARLHELDLRRVGGSGPRGRILRRDIE</td>\n",
       "    </tr>\n",
       "    <tr>\n",
       "      <th>13373</th>\n",
       "      <td>CDT1</td>\n",
       "      <td>W5MBI2_LEPOC/258-422</td>\n",
       "      <td>PF08839.11</td>\n",
       "      <td>LPYKYKMLAEMFRCLDTIVSILFNRSETATFAK.VKQGVQDMMH.....</td>\n",
       "      <td>LPYKYKMLAEMFRCLDTIVSILFNRSETATFAKVKQGVQDMMHKRF...</td>\n",
       "    </tr>\n",
       "    <tr>\n",
       "      <th>13374</th>\n",
       "      <td>Ribosomal_L11</td>\n",
       "      <td>RL11_GEOBB/71-139</td>\n",
       "      <td>PF00298.19</td>\n",
       "      <td>KTPPAP.VLIKK.AL..G.LQ.......S..............G.S...</td>\n",
       "      <td>KTPPAPVLIKKALGLQSGSAVPNKTKVGKLTKDQVREIATKKMPDL...</td>\n",
       "    </tr>\n",
       "  </tbody>\n",
       "</table>\n",
       "<p>1086741 rows × 5 columns</p>\n",
       "</div>"
      ],
      "text/plain": [
       "           family_id          sequence_name family_accession  \\\n",
       "0                EKR   R6QAS0_9FIRM/627-685        PF10371.9   \n",
       "1            DUF4042   B3MYB3_DROAN/365-542        PF13251.6   \n",
       "2           Reg_prop   Q8EJN6_SHEON/296-320       PF07494.11   \n",
       "3            DUF3880   M1WYU2_PSEP2/257-334        PF12996.7   \n",
       "4            UPRTase   B6GYG1_PENRW/502-699        PF14681.6   \n",
       "...              ...                    ...              ...   \n",
       "13370          Tub_N      F1RNI1_PIG/29-238        PF16322.5   \n",
       "13371     Phospho_p8  A0A1X7VUV4_AMPQE/3-63        PF10195.9   \n",
       "13372     E3_binding   D5QEH1_KOMHA/126-161       PF02817.17   \n",
       "13373           CDT1   W5MBI2_LEPOC/258-422       PF08839.11   \n",
       "13374  Ribosomal_L11      RL11_GEOBB/71-139       PF00298.19   \n",
       "\n",
       "                                        aligned_sequence  \\\n",
       "0      .EEKKLVIPTNRPEMKDFVKNILHPIDHLHGDDLPVSKFV..DRAD...   \n",
       "1      KVRISALHLLGSLAKNLPRRFLYGYWHILFPSG.......EHGATN...   \n",
       "2                        AQANMETLK..AILF...DKSG.LMWVGGSG   \n",
       "3      WFVDNPHLILHHYTHPGTDNTAIFTYDAGNL.EPLRRKGFANTY.Y...   \n",
       "4      AT.DRPAAKLLMTPMRDASI.SGSALRKVHGRVGFYLATELCT.QI...   \n",
       "...                                                  ...   \n",
       "13370  RQRALLEQKQKKKRQEPL.MVQANADGR..PRSRRARQSE.........   \n",
       "13371  HIYFDEYDY.FNFGSGFDKMFPDNKNTGHSKHKGYKLETQRYSPSG...   \n",
       "13372  VFASPVAR.RLARLHEL....DLR..RV..G....G....S.GPRG...   \n",
       "13373  LPYKYKMLAEMFRCLDTIVSILFNRSETATFAK.VKQGVQDMMH.....   \n",
       "13374  KTPPAP.VLIKK.AL..G.LQ.......S..............G.S...   \n",
       "\n",
       "                                                sequence  \n",
       "0      EEKKLVIPTNRPEMKDFVKNILHPIDHLHGDDLPVSKFVDRADGVY...  \n",
       "1      KVRISALHLLGSLAKNLPRRFLYGYWHILFPSGEHGATNSHLLLLG...  \n",
       "2                              AQANMETLKAILFDKSGLMWVGGSG  \n",
       "3      WFVDNPHLILHHYTHPGTDNTAIFTYDAGNLEPLRRKGFANTYYLP...  \n",
       "4      ATDRPAAKLLMTPMRDASISGSALRKVHGRVGFYLATELCTQIMGL...  \n",
       "...                                                  ...  \n",
       "13370  RQRALLEQKQKKKRQEPLMVQANADGRPRSRRARQSEEQAPLVESY...  \n",
       "13371  HIYFDEYDYFNFGSGFDKMFPDNKNTGHSKHKGYKLETQRYSPSGH...  \n",
       "13372               VFASPVARRLARLHELDLRRVGGSGPRGRILRRDIE  \n",
       "13373  LPYKYKMLAEMFRCLDTIVSILFNRSETATFAKVKQGVQDMMHKRF...  \n",
       "13374  KTPPAPVLIKKALGLQSGSAVPNKTKVGKLTKDQVREIATKKMPDL...  \n",
       "\n",
       "[1086741 rows x 5 columns]"
      ]
     },
     "execution_count": 28,
     "metadata": {},
     "output_type": "execute_result"
    }
   ],
   "source": [
    "train_df"
   ]
  },
  {
   "cell_type": "markdown",
   "metadata": {},
   "source": [
    "Note: Sequences are aligned to their family. However we are predicting the family, i.e. this is unknown.<br><br>\n",
    "$\\therefore$ we should not use `aligned_sequences`"
   ]
  },
  {
   "cell_type": "code",
   "execution_count": 29,
   "metadata": {},
   "outputs": [],
   "source": [
    "all_dfs = [train_df, dev_df, test_df]"
   ]
  },
  {
   "cell_type": "code",
   "execution_count": 30,
   "metadata": {},
   "outputs": [
    {
     "name": "stdout",
     "output_type": "stream",
     "text": [
      "Index(['family_id', 'sequence_name', 'family_accession', 'sequence'], dtype='object')\n",
      "Index(['family_id', 'sequence_name', 'family_accession', 'sequence'], dtype='object')\n",
      "Index(['family_id', 'sequence_name', 'family_accession', 'sequence'], dtype='object')\n"
     ]
    }
   ],
   "source": [
    "for df in all_dfs:\n",
    "    df.drop(columns=[\"aligned_sequence\"], inplace=True)\n",
    "    print(df.columns)"
   ]
  },
  {
   "cell_type": "markdown",
   "metadata": {},
   "source": [
    "Also, version number is irrelevant in `family_accession`. <br><br>\n",
    "$\\therefore$ we drop them."
   ]
  },
  {
   "cell_type": "code",
   "execution_count": 43,
   "metadata": {},
   "outputs": [
    {
     "data": {
      "text/html": [
       "<div>\n",
       "<style scoped>\n",
       "    .dataframe tbody tr th:only-of-type {\n",
       "        vertical-align: middle;\n",
       "    }\n",
       "\n",
       "    .dataframe tbody tr th {\n",
       "        vertical-align: top;\n",
       "    }\n",
       "\n",
       "    .dataframe thead th {\n",
       "        text-align: right;\n",
       "    }\n",
       "</style>\n",
       "<table border=\"1\" class=\"dataframe\">\n",
       "  <thead>\n",
       "    <tr style=\"text-align: right;\">\n",
       "      <th></th>\n",
       "      <th>family_id</th>\n",
       "      <th>sequence_name</th>\n",
       "      <th>family_accession</th>\n",
       "      <th>sequence</th>\n",
       "    </tr>\n",
       "  </thead>\n",
       "  <tbody>\n",
       "    <tr>\n",
       "      <th>0</th>\n",
       "      <td>EKR</td>\n",
       "      <td>R6QAS0_9FIRM/627-685</td>\n",
       "      <td>PF10371</td>\n",
       "      <td>EEKKLVIPTNRPEMKDFVKNILHPIDHLHGDDLPVSKFVDRADGVY...</td>\n",
       "    </tr>\n",
       "    <tr>\n",
       "      <th>1</th>\n",
       "      <td>DUF4042</td>\n",
       "      <td>B3MYB3_DROAN/365-542</td>\n",
       "      <td>PF13251</td>\n",
       "      <td>KVRISALHLLGSLAKNLPRRFLYGYWHILFPSGEHGATNSHLLLLG...</td>\n",
       "    </tr>\n",
       "    <tr>\n",
       "      <th>2</th>\n",
       "      <td>Reg_prop</td>\n",
       "      <td>Q8EJN6_SHEON/296-320</td>\n",
       "      <td>PF07494</td>\n",
       "      <td>AQANMETLKAILFDKSGLMWVGGSG</td>\n",
       "    </tr>\n",
       "    <tr>\n",
       "      <th>3</th>\n",
       "      <td>DUF3880</td>\n",
       "      <td>M1WYU2_PSEP2/257-334</td>\n",
       "      <td>PF12996</td>\n",
       "      <td>WFVDNPHLILHHYTHPGTDNTAIFTYDAGNLEPLRRKGFANTYYLP...</td>\n",
       "    </tr>\n",
       "    <tr>\n",
       "      <th>4</th>\n",
       "      <td>UPRTase</td>\n",
       "      <td>B6GYG1_PENRW/502-699</td>\n",
       "      <td>PF14681</td>\n",
       "      <td>ATDRPAAKLLMTPMRDASISGSALRKVHGRVGFYLATELCTQIMGL...</td>\n",
       "    </tr>\n",
       "    <tr>\n",
       "      <th>...</th>\n",
       "      <td>...</td>\n",
       "      <td>...</td>\n",
       "      <td>...</td>\n",
       "      <td>...</td>\n",
       "    </tr>\n",
       "    <tr>\n",
       "      <th>13370</th>\n",
       "      <td>Tub_N</td>\n",
       "      <td>F1RNI1_PIG/29-238</td>\n",
       "      <td>PF16322</td>\n",
       "      <td>RQRALLEQKQKKKRQEPLMVQANADGRPRSRRARQSEEQAPLVESY...</td>\n",
       "    </tr>\n",
       "    <tr>\n",
       "      <th>13371</th>\n",
       "      <td>Phospho_p8</td>\n",
       "      <td>A0A1X7VUV4_AMPQE/3-63</td>\n",
       "      <td>PF10195</td>\n",
       "      <td>HIYFDEYDYFNFGSGFDKMFPDNKNTGHSKHKGYKLETQRYSPSGH...</td>\n",
       "    </tr>\n",
       "    <tr>\n",
       "      <th>13372</th>\n",
       "      <td>E3_binding</td>\n",
       "      <td>D5QEH1_KOMHA/126-161</td>\n",
       "      <td>PF02817</td>\n",
       "      <td>VFASPVARRLARLHELDLRRVGGSGPRGRILRRDIE</td>\n",
       "    </tr>\n",
       "    <tr>\n",
       "      <th>13373</th>\n",
       "      <td>CDT1</td>\n",
       "      <td>W5MBI2_LEPOC/258-422</td>\n",
       "      <td>PF08839</td>\n",
       "      <td>LPYKYKMLAEMFRCLDTIVSILFNRSETATFAKVKQGVQDMMHKRF...</td>\n",
       "    </tr>\n",
       "    <tr>\n",
       "      <th>13374</th>\n",
       "      <td>Ribosomal_L11</td>\n",
       "      <td>RL11_GEOBB/71-139</td>\n",
       "      <td>PF00298</td>\n",
       "      <td>KTPPAPVLIKKALGLQSGSAVPNKTKVGKLTKDQVREIATKKMPDL...</td>\n",
       "    </tr>\n",
       "  </tbody>\n",
       "</table>\n",
       "<p>1086741 rows × 4 columns</p>\n",
       "</div>"
      ],
      "text/plain": [
       "           family_id          sequence_name family_accession  \\\n",
       "0                EKR   R6QAS0_9FIRM/627-685          PF10371   \n",
       "1            DUF4042   B3MYB3_DROAN/365-542          PF13251   \n",
       "2           Reg_prop   Q8EJN6_SHEON/296-320          PF07494   \n",
       "3            DUF3880   M1WYU2_PSEP2/257-334          PF12996   \n",
       "4            UPRTase   B6GYG1_PENRW/502-699          PF14681   \n",
       "...              ...                    ...              ...   \n",
       "13370          Tub_N      F1RNI1_PIG/29-238          PF16322   \n",
       "13371     Phospho_p8  A0A1X7VUV4_AMPQE/3-63          PF10195   \n",
       "13372     E3_binding   D5QEH1_KOMHA/126-161          PF02817   \n",
       "13373           CDT1   W5MBI2_LEPOC/258-422          PF08839   \n",
       "13374  Ribosomal_L11      RL11_GEOBB/71-139          PF00298   \n",
       "\n",
       "                                                sequence  \n",
       "0      EEKKLVIPTNRPEMKDFVKNILHPIDHLHGDDLPVSKFVDRADGVY...  \n",
       "1      KVRISALHLLGSLAKNLPRRFLYGYWHILFPSGEHGATNSHLLLLG...  \n",
       "2                              AQANMETLKAILFDKSGLMWVGGSG  \n",
       "3      WFVDNPHLILHHYTHPGTDNTAIFTYDAGNLEPLRRKGFANTYYLP...  \n",
       "4      ATDRPAAKLLMTPMRDASISGSALRKVHGRVGFYLATELCTQIMGL...  \n",
       "...                                                  ...  \n",
       "13370  RQRALLEQKQKKKRQEPLMVQANADGRPRSRRARQSEEQAPLVESY...  \n",
       "13371  HIYFDEYDYFNFGSGFDKMFPDNKNTGHSKHKGYKLETQRYSPSGH...  \n",
       "13372               VFASPVARRLARLHELDLRRVGGSGPRGRILRRDIE  \n",
       "13373  LPYKYKMLAEMFRCLDTIVSILFNRSETATFAKVKQGVQDMMHKRF...  \n",
       "13374  KTPPAPVLIKKALGLQSGSAVPNKTKVGKLTKDQVREIATKKMPDL...  \n",
       "\n",
       "[1086741 rows x 4 columns]"
      ]
     },
     "execution_count": 43,
     "metadata": {},
     "output_type": "execute_result"
    }
   ],
   "source": [
    "for df in all_dfs:\n",
    "    df[\"family_accession\"] = df[\"family_accession\"].apply(lambda x: x.split(\".\")[0])\n",
    "train_df"
   ]
  },
  {
   "cell_type": "markdown",
   "metadata": {},
   "source": [
    "### Key statistics"
   ]
  },
  {
   "cell_type": "markdown",
   "metadata": {},
   "source": [
    "#### Dataset split"
   ]
  },
  {
   "cell_type": "code",
   "execution_count": 44,
   "metadata": {},
   "outputs": [
    {
     "name": "stdout",
     "output_type": "stream",
     "text": [
      "Train: 1086741 (81.2%)\n",
      "Dev: 126171 (9.4%)\n",
      "Test: 126171 (9.4%)\n"
     ]
    }
   ],
   "source": [
    "n_train = train_df.shape[0]\n",
    "n_dev = dev_df.shape[0]\n",
    "n_test = test_df.shape[0]\n",
    "n_total = n_train + n_dev + n_test\n",
    "print(f\"Train: {n_train} ({n_train/n_total*100:.1f}%)\")\n",
    "print(f\"Dev: {n_dev} ({n_dev/n_total*100:.1f}%)\")\n",
    "print(f\"Test: {n_test} ({n_test/n_total*100:.1f}%)\")"
   ]
  },
  {
   "cell_type": "markdown",
   "metadata": {},
   "source": [
    "Large proportion of data is in training set"
   ]
  },
  {
   "cell_type": "markdown",
   "metadata": {},
   "source": [
    "#### Class distribution"
   ]
  },
  {
   "cell_type": "code",
   "execution_count": 45,
   "metadata": {},
   "outputs": [
    {
     "name": "stdout",
     "output_type": "stream",
     "text": [
      "The number of unique families in train set is 17929\n",
      "The number of unique families in dev set is 13071\n",
      "The number of unique families in test set is 13071\n"
     ]
    }
   ],
   "source": [
    "for df, split in zip(all_dfs, [\"train\", \"dev\", \"test\"]):\n",
    "    print(f\"The number of unique families in {split} set is {len(df['family_accession'].unique())}\")"
   ]
  },
  {
   "cell_type": "code",
   "execution_count": 52,
   "metadata": {},
   "outputs": [
    {
     "data": {
      "image/png": "[encoded data removed]",
      "text/plain": [
       "<Figure size 1500x500 with 3 Axes>"
      ]
     },
     "metadata": {},
     "output_type": "display_data"
    }
   ],
   "source": [
    "import matplotlib.pyplot as plt\n",
    "\n",
    "def plot_class_freqs(df):\n",
    "    class_freqs = df[\"family_accession\"].value_counts()\n",
    "    class_freqs.plot(rot=90)\n",
    "    plt.ylabel(\"Number of sequences\")\n",
    "    plt.title(\"Number of sequences per family in training set\")\n",
    "\n",
    "plt.subplots(1,3, figsize=(15,5))\n",
    "for i, df in enumerate(all_dfs):\n",
    "    plt.subplot(1,3,i+1)\n",
    "    plot_class_freqs(df)"
   ]
  }
 ],
 "metadata": {
  "kernelspec": {
   "display_name": "cv",
   "language": "python",
   "name": "python3"
  },
  "language_info": {
   "codemirror_mode": {
    "name": "ipython",
    "version": 3
   },
   "file_extension": ".py",
   "mimetype": "text/x-python",
   "name": "python",
   "nbconvert_exporter": "python",
   "pygments_lexer": "ipython3",
   "version": "3.11.5"
  }
 },
 "nbformat": 4,
 "nbformat_minor": 2
}
